{
 "cells": [
  {
   "cell_type": "code",
   "execution_count": 1,
   "metadata": {},
   "outputs": [],
   "source": [
    "import os\n",
    "import pandas as pd\n",
    "\n",
    "pred_path = '../n2c2-data/output'\n",
    "gold_path = '../n2c2-data/test'"
   ]
  },
  {
   "cell_type": "code",
   "execution_count": 21,
   "metadata": {},
   "outputs": [],
   "source": [
    "with open('../resources/ncbi-wiki-abbreviations.txt') as f:\n",
    "    ncbi = [x.strip() for x in f.readlines()]\n",
    "with open('../resources/semeval-wiki-abbreviations.txt') as f:\n",
    "    semeval = [x.strip() for x in f.readlines()]\n",
    "spell = list(set(ncbi+semeval))\n",
    "spell.sort()\n",
    "\n",
    "with open('../resources/abbreviations.txt','w+') as f:\n",
    "    for s in spell:\n",
    "        f.write(s+'\\n')"
   ]
  },
  {
   "cell_type": "code",
   "execution_count": 3,
   "metadata": {},
   "outputs": [
    {
     "name": "stderr",
     "output_type": "stream",
     "text": [
      "C:\\Users\\etfrench\\Anaconda3\\lib\\site-packages\\ipykernel_launcher.py:3: ParserWarning: Falling back to the 'python' engine because the 'c' engine does not support regex separators (separators > 1 char and different from '\\s+' are interpreted as regex); you can avoid this warning by specifying engine='python'.\n",
      "  This is separate from the ipykernel package so we can avoid doing imports until\n",
      "C:\\Users\\etfrench\\Anaconda3\\lib\\site-packages\\ipykernel_launcher.py:4: ParserWarning: Falling back to the 'python' engine because the 'c' engine does not support regex separators (separators > 1 char and different from '\\s+' are interpreted as regex); you can avoid this warning by specifying engine='python'.\n",
      "  after removing the cwd from sys.path.\n"
     ]
    },
    {
     "data": {
      "text/html": [
       "<div>\n",
       "<style scoped>\n",
       "    .dataframe tbody tr th:only-of-type {\n",
       "        vertical-align: middle;\n",
       "    }\n",
       "\n",
       "    .dataframe tbody tr th {\n",
       "        vertical-align: top;\n",
       "    }\n",
       "\n",
       "    .dataframe thead th {\n",
       "        text-align: right;\n",
       "    }\n",
       "</style>\n",
       "<table border=\"1\" class=\"dataframe\">\n",
       "  <thead>\n",
       "    <tr style=\"text-align: right;\">\n",
       "      <th></th>\n",
       "      <th>file_id</th>\n",
       "      <th>ix</th>\n",
       "      <th>mention</th>\n",
       "      <th>cui</th>\n",
       "    </tr>\n",
       "  </thead>\n",
       "  <tbody>\n",
       "    <tr>\n",
       "      <th>0</th>\n",
       "      <td>34</td>\n",
       "      <td>527|531</td>\n",
       "      <td>pain</td>\n",
       "      <td>D010146</td>\n",
       "    </tr>\n",
       "    <tr>\n",
       "      <th>1</th>\n",
       "      <td>34</td>\n",
       "      <td>534|542</td>\n",
       "      <td>headache</td>\n",
       "      <td>C0018681</td>\n",
       "    </tr>\n",
       "    <tr>\n",
       "      <th>2</th>\n",
       "      <td>34</td>\n",
       "      <td>545|556</td>\n",
       "      <td>temperature</td>\n",
       "      <td>C0204688</td>\n",
       "    </tr>\n",
       "    <tr>\n",
       "      <th>3</th>\n",
       "      <td>34</td>\n",
       "      <td>647|651</td>\n",
       "      <td>pain</td>\n",
       "      <td>D010146</td>\n",
       "    </tr>\n",
       "    <tr>\n",
       "      <th>4</th>\n",
       "      <td>34</td>\n",
       "      <td>680|682</td>\n",
       "      <td>rr</td>\n",
       "      <td>C1443397</td>\n",
       "    </tr>\n",
       "    <tr>\n",
       "      <th>...</th>\n",
       "      <td>...</td>\n",
       "      <td>...</td>\n",
       "      <td>...</td>\n",
       "      <td>...</td>\n",
       "    </tr>\n",
       "    <tr>\n",
       "      <th>1906</th>\n",
       "      <td>34</td>\n",
       "      <td>3921|3924</td>\n",
       "      <td>rle</td>\n",
       "      <td>C0230415</td>\n",
       "    </tr>\n",
       "    <tr>\n",
       "      <th>1907</th>\n",
       "      <td>34</td>\n",
       "      <td>3893|3913</td>\n",
       "      <td>physical examination</td>\n",
       "      <td>C0031809</td>\n",
       "    </tr>\n",
       "    <tr>\n",
       "      <th>1908</th>\n",
       "      <td>34</td>\n",
       "      <td>4700|4711</td>\n",
       "      <td>medications</td>\n",
       "      <td>C0013216</td>\n",
       "    </tr>\n",
       "    <tr>\n",
       "      <th>1909</th>\n",
       "      <td>34</td>\n",
       "      <td>4731|4737</td>\n",
       "      <td>motrin</td>\n",
       "      <td>C0699203</td>\n",
       "    </tr>\n",
       "    <tr>\n",
       "      <th>1910</th>\n",
       "      <td>34</td>\n",
       "      <td>4853|4862</td>\n",
       "      <td>increased</td>\n",
       "      <td>C0205217</td>\n",
       "    </tr>\n",
       "  </tbody>\n",
       "</table>\n",
       "<p>1911 rows × 4 columns</p>\n",
       "</div>"
      ],
      "text/plain": [
       "      file_id         ix               mention       cui\n",
       "0          34    527|531                  pain   D010146\n",
       "1          34    534|542              headache  C0018681\n",
       "2          34    545|556           temperature  C0204688\n",
       "3          34    647|651                  pain   D010146\n",
       "4          34    680|682                    rr  C1443397\n",
       "...       ...        ...                   ...       ...\n",
       "1906       34  3921|3924                   rle  C0230415\n",
       "1907       34  3893|3913  physical examination  C0031809\n",
       "1908       34  4700|4711           medications  C0013216\n",
       "1909       34  4731|4737                motrin  C0699203\n",
       "1910       34  4853|4862             increased  C0205217\n",
       "\n",
       "[1911 rows x 4 columns]"
      ]
     },
     "execution_count": 3,
     "metadata": {},
     "output_type": "execute_result"
    }
   ],
   "source": [
    "files = os.listdir(pred_path)\n",
    "for file in files:\n",
    "    pred = pd.read_table(f'{pred_path}/{file}',sep='\\|\\|',header=None, names=['file_id','ix','mention','cui'])\n",
    "    gold = pd.read_table(f'{gold_path}/{file}',sep='\\|\\|',header=None, names=['file_id','ix','mention','cui'])\n",
    "    break\n",
    "pred"
   ]
  },
  {
   "cell_type": "code",
   "execution_count": 27,
   "metadata": {},
   "outputs": [],
   "source": [
    "df = pd.read_csv('test4.txt',sep='\\t',header=None)\n",
    "df.to_csv('test4_pipe.txt',sep='|',header=None,index=None)"
   ]
  },
  {
   "cell_type": "code",
   "execution_count": 18,
   "metadata": {},
   "outputs": [
    {
     "data": {
      "text/plain": [
       "0                                                   58\n",
       "1    Fast thinker. \\nVery efficient to work. Gets a...\n",
       "Name: 57, dtype: object"
      ]
     },
     "execution_count": 18,
     "metadata": {},
     "output_type": "execute_result"
    }
   ],
   "source": [
    "df[1] = df[1].replace('\"','')\n",
    "df.iloc[57]"
   ]
  }
 ],
 "metadata": {
  "kernelspec": {
   "display_name": "Python 3",
   "language": "python",
   "name": "python3"
  },
  "language_info": {
   "codemirror_mode": {
    "name": "ipython",
    "version": 3
   },
   "file_extension": ".py",
   "mimetype": "text/x-python",
   "name": "python",
   "nbconvert_exporter": "python",
   "pygments_lexer": "ipython3",
   "version": "3.7.6"
  }
 },
 "nbformat": 4,
 "nbformat_minor": 4
}
