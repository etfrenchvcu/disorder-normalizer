{
 "cells": [
  {
   "cell_type": "markdown",
   "metadata": {},
   "source": [
    "# Load acronyms file\n",
    "Acronyms are from https://www.tabers.com/tabersonline/view/Tabers-Dictionary/767492/all/Medical_Abbreviations"
   ]
  },
  {
   "cell_type": "code",
   "execution_count": 1,
   "metadata": {},
   "outputs": [],
   "source": [
    "import re"
   ]
  },
  {
   "cell_type": "code",
   "execution_count": 2,
   "metadata": {},
   "outputs": [],
   "source": [
    "# string = 'ca. about; approximately; cancer'\n",
    "# parseExpansion(string)"
   ]
  },
  {
   "cell_type": "code",
   "execution_count": 3,
   "metadata": {},
   "outputs": [
    {
     "name": "stdout",
     "output_type": "stream",
     "text": [
      "Unable to parse:  angstrã¶m unit\n",
      "Unable to parse:  bacille calmette-guã©rin\n",
      "Unable to parse:  â½ /ns 5% dextrose and half-normal saline solution (0.45% nacl)\n",
      "Unable to parse:  guillain-barrã©\n",
      "Unable to parse:  âµeq microequivalent\n",
      "Unable to parse:  âµg microgram\n",
      "Unable to parse:  â€  every day\n",
      "Unable to parse:  î± tumor necrosis factor alpha\n"
     ]
    }
   ],
   "source": [
    "def is_ascii(s):\n",
    "    return all(ord(c) < 128 for c in s)\n",
    "\n",
    "def parseExpansion(string):\n",
    "    records = []\n",
    "    expansions = []\n",
    "    string = string.replace('; ',',')\n",
    "    string = string.replace(', ',',').lower()\n",
    "    regex = re.compile(r'^[a-z0-9,\\/\\.\\-\\+\\&]+')\n",
    "\n",
    "    abbreviations = regex.match(string).group(0).split(',')\n",
    "    expansion = regex.sub('',string).strip()\n",
    "        \n",
    "    expansions = [e.strip() for e in expansion.split(',')]\n",
    "        \n",
    "    for a in abbreviations:\n",
    "        if is_ascii(a):\n",
    "            for e in expansions:\n",
    "                if is_ascii(e):\n",
    "                    records.append((a,e))\n",
    "                    records.append((a.replace('.',''),e)) # Remove periods as well\n",
    "                else:\n",
    "                    print('Unable to parse: ', e)\n",
    "        else:\n",
    "            print('Unable to parse: ', a)\n",
    "    return records\n",
    "    \n",
    "records = []\n",
    "with open('abbreviations_raw.txt') as f:\n",
    "    for a in f.readlines():\n",
    "        a = a.strip().lower()\n",
    "        \n",
    "        try:\n",
    "            records += parseExpansion(a)\n",
    "        except:\n",
    "            print('Unable to parse: ', a)"
   ]
  },
  {
   "cell_type": "code",
   "execution_count": 4,
   "metadata": {},
   "outputs": [],
   "source": [
    "records.append(('mri','magnetic resonance imaging'))\n",
    "records.append(('mra','magnetic resonance imaging angiography'))\n",
    "records.append(('im','intramuscular'))\n",
    "records.append(('wd','withdrawal'))\n",
    "records.append(('xr','x-ray'))"
   ]
  },
  {
   "cell_type": "code",
   "execution_count": 5,
   "metadata": {},
   "outputs": [],
   "source": [
    "with open('../resources/abbreviations.txt','w+') as f:\n",
    "    for r in sorted(set(records)):\n",
    "        f.write(f'{r[0]}||{r[1]}\\n')"
   ]
  }
 ],
 "metadata": {
  "kernelspec": {
   "display_name": "Python 3",
   "language": "python",
   "name": "python3"
  },
  "language_info": {
   "codemirror_mode": {
    "name": "ipython",
    "version": 3
   },
   "file_extension": ".py",
   "mimetype": "text/x-python",
   "name": "python",
   "nbconvert_exporter": "python",
   "pygments_lexer": "ipython3",
   "version": "3.7.6"
  }
 },
 "nbformat": 4,
 "nbformat_minor": 4
}
